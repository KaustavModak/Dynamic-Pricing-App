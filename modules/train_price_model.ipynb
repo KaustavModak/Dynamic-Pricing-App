{
 "cells": [
  {
   "cell_type": "code",
   "execution_count": 8,
   "id": "0291c76f",
   "metadata": {},
   "outputs": [
    {
     "name": "stdout",
     "output_type": "stream",
     "text": [
      "✅ RMSE: 2.98\n",
      "✅ Saved pipeline at: ../models/pricing_model.pkl\n"
     ]
    }
   ],
   "source": [
    "import os\n",
    "import pickle\n",
    "import pandas as pd\n",
    "import numpy as np\n",
    "\n",
    "from sklearn.preprocessing import OneHotEncoder\n",
    "from sklearn.compose import ColumnTransformer\n",
    "from sklearn.pipeline import Pipeline\n",
    "from xgboost import XGBRegressor\n",
    "from sklearn.model_selection import train_test_split\n",
    "from sklearn.metrics import mean_squared_error\n",
    "\n",
    "# 📂 Paths\n",
    "TRAINING_DATA_PATH = '../../data/training_data.csv'\n",
    "MODEL_OUTPUT_PATH = '../models/pricing_model.pkl'\n",
    "\n",
    "# ✅ Load Data\n",
    "df = pd.read_csv(TRAINING_DATA_PATH)\n",
    "\n",
    "# ✅ Feature + target setup\n",
    "features = [\n",
    "    'amp',\n",
    "    'inventory_level',\n",
    "    'mrp',\n",
    "    'holiday_score',\n",
    "    'brand_reputation_score',\n",
    "    'expiry_score',\n",
    "    'location_zone'\n",
    "]\n",
    "target = 'final_price'\n",
    "\n",
    "X = df[features]\n",
    "y = df[target]\n",
    "\n",
    "# ✅ Split data\n",
    "X_train, X_test, y_train, y_test = train_test_split(X, y, test_size=0.2, random_state=42)\n",
    "\n",
    "# ✅ Define transformer\n",
    "categorical_features = ['location_zone']\n",
    "preprocessor = ColumnTransformer(\n",
    "    transformers=[\n",
    "        ('zone', OneHotEncoder(handle_unknown='ignore'), categorical_features)\n",
    "    ],\n",
    "    remainder='passthrough'\n",
    ")\n",
    "\n",
    "# ✅ Pipeline\n",
    "pipeline = Pipeline(steps=[\n",
    "    ('preprocessor', preprocessor),\n",
    "    ('model', XGBRegressor(\n",
    "        random_state=42,\n",
    "        n_estimators=100,\n",
    "        learning_rate=0.1,\n",
    "        reg_alpha=0.5,\n",
    "        reg_lambda=1.0,\n",
    "        max_depth=5\n",
    "    ))\n",
    "])\n",
    "\n",
    "# ✅ Train\n",
    "pipeline.fit(X_train, y_train)\n",
    "y_pred = pipeline.predict(X_test)\n",
    "rmse = np.sqrt(mean_squared_error(y_test, y_pred))\n",
    "print(f\"✅ RMSE: {rmse:.2f}\")\n",
    "\n",
    "# ✅ Save\n",
    "os.makedirs(os.path.dirname(MODEL_OUTPUT_PATH), exist_ok=True)\n",
    "with open(MODEL_OUTPUT_PATH, 'wb') as f:\n",
    "    pickle.dump(pipeline, f)\n",
    "\n",
    "print(\"✅ Saved pipeline at:\", MODEL_OUTPUT_PATH)\n"
   ]
  },
  {
   "cell_type": "code",
   "execution_count": null,
   "id": "7531f9b3",
   "metadata": {},
   "outputs": [],
   "source": []
  }
 ],
 "metadata": {
  "kernelspec": {
   "display_name": "Python 3",
   "language": "python",
   "name": "python3"
  },
  "language_info": {
   "codemirror_mode": {
    "name": "ipython",
    "version": 3
   },
   "file_extension": ".py",
   "mimetype": "text/x-python",
   "name": "python",
   "nbconvert_exporter": "python",
   "pygments_lexer": "ipython3",
   "version": "3.8.20"
  }
 },
 "nbformat": 4,
 "nbformat_minor": 5
}
